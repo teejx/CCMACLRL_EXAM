{
  "cells": [
    {
      "cell_type": "markdown",
      "metadata": {
        "id": "view-in-github",
        "colab_type": "text"
      },
      "source": [
        "<a href=\"https://colab.research.google.com/github/innogatchi/CCMACLRL_EXAM_COM222ML/blob/main/Midterm_Exam.ipynb\" target=\"_parent\"><img src=\"https://colab.research.google.com/assets/colab-badge.svg\" alt=\"Open In Colab\"/></a>"
      ]
    },
    {
      "cell_type": "code",
      "execution_count": 2544,
      "metadata": {
        "id": "MhSLM8o1TM0D"
      },
      "outputs": [],
      "source": [
        "import pandas as pd\n",
        "import matplotlib.pyplot as plt\n",
        "import seaborn as sns\n",
        "from sklearn.model_selection import train_test_split\n",
        "from sklearn.linear_model import LinearRegression\n",
        "from sklearn.preprocessing import MinMaxScaler, StandardScaler\n",
        "from sklearn.preprocessing import LabelEncoder\n",
        "from scipy.stats import pearsonr\n",
        "import statsmodels.api as sm\n",
        "from datetime import datetime\n",
        "\n",
        "from sklearn.neighbors import KNeighborsClassifier\n",
        "from sklearn.metrics import accuracy_score, precision_score, recall_score, f1_score, confusion_matrix, ConfusionMatrixDisplay\n",
        "from sklearn import metrics"
      ]
    },
    {
      "cell_type": "markdown",
      "metadata": {
        "id": "y38uhw3KTM0E"
      },
      "source": [
        "## Dataset File"
      ]
    },
    {
      "cell_type": "code",
      "execution_count": 2545,
      "metadata": {
        "id": "cJgDKuSWTM0F"
      },
      "outputs": [],
      "source": [
        "df = pd.read_csv('train.csv')"
      ]
    },
    {
      "cell_type": "markdown",
      "metadata": {
        "id": "t4I-wkP8TM0F"
      },
      "source": [
        "## Test File"
      ]
    },
    {
      "cell_type": "code",
      "execution_count": 2546,
      "metadata": {
        "id": "3PrJRLebTM0G"
      },
      "outputs": [],
      "source": [
        "dt=pd.read_csv('test.csv')"
      ]
    },
    {
      "cell_type": "markdown",
      "metadata": {
        "id": "ntGpbsBg8hft"
      },
      "source": [
        "## Sample Submission File"
      ]
    },
    {
      "cell_type": "code",
      "execution_count": 2547,
      "metadata": {
        "id": "-5Dwtw_w3U8W"
      },
      "outputs": [],
      "source": [
        "sf=pd.read_csv('sample_submission.csv')"
      ]
    },
    {
      "cell_type": "markdown",
      "metadata": {
        "id": "MYtugfiwUeQO"
      },
      "source": [
        "Code"
      ]
    },
    {
      "cell_type": "code",
      "execution_count": 2548,
      "metadata": {
        "id": "EungT_yaayBp"
      },
      "outputs": [],
      "source": [
        "data=df.copy()"
      ]
    },
    {
      "cell_type": "code",
      "execution_count": 2549,
      "metadata": {
        "id": "Wjr9WREVa9ih"
      },
      "outputs": [],
      "source": [
        "data = data.drop(['id','fuel_type','accident','clean_title','ext_col','int_col','transmission','brand','model'], axis=1)\n"
      ]
    },
    {
      "cell_type": "code",
      "execution_count": 2550,
      "metadata": {
        "id": "sFPS5M_JcNvH"
      },
      "outputs": [],
      "source": [
        "data = data.drop('engine', axis=1)"
      ]
    },
    {
      "cell_type": "code",
      "execution_count": 2551,
      "metadata": {
        "id": "rJIX8VYzbPwY"
      },
      "outputs": [],
      "source": [
        "le_engine = LabelEncoder()\n",
        "le_accidents = LabelEncoder()\n",
        "le_transmission = LabelEncoder()\n",
        "le_brand = LabelEncoder()\n",
        "le_model = LabelEncoder()\n",
        "\n",
        "data['engine_encoded'] = le_engine.fit_transform(df['engine'])\n",
        "data['accident_encoded'] = le_accidents.fit_transform(df['accident'])\n",
        "data['transmission_encoded'] = le_transmission.fit_transform(df['transmission'])\n",
        "data['brand_encoded'] = le_brand.fit_transform(df['brand'])\n",
        "data['model_encoded'] = le_model.fit_transform(df['model'])"
      ]
    },
    {
      "cell_type": "code",
      "execution_count": 2552,
      "metadata": {
        "id": "iLX_COgf95oI",
        "colab": {
          "base_uri": "https://localhost:8080/"
        },
        "outputId": "7e580ca5-749b-4006-d86e-62a76151417f"
      },
      "outputs": [
        {
          "output_type": "stream",
          "name": "stdout",
          "text": [
            "<class 'pandas.core.frame.DataFrame'>\n",
            "RangeIndex: 188533 entries, 0 to 188532\n",
            "Data columns (total 8 columns):\n",
            " #   Column                Non-Null Count   Dtype\n",
            "---  ------                --------------   -----\n",
            " 0   model_year            188533 non-null  int64\n",
            " 1   milage                188533 non-null  int64\n",
            " 2   price                 188533 non-null  int64\n",
            " 3   engine_encoded        188533 non-null  int64\n",
            " 4   accident_encoded      188533 non-null  int64\n",
            " 5   transmission_encoded  188533 non-null  int64\n",
            " 6   brand_encoded         188533 non-null  int64\n",
            " 7   model_encoded         188533 non-null  int64\n",
            "dtypes: int64(8)\n",
            "memory usage: 11.5 MB\n"
          ]
        }
      ],
      "source": [
        "data.info()"
      ]
    },
    {
      "cell_type": "code",
      "execution_count": 2553,
      "metadata": {
        "id": "rkeX2R5ysgaE"
      },
      "outputs": [],
      "source": [
        "X = data.drop(['price'], axis=1)\n",
        "y = data['price']\n",
        "X = pd.get_dummies(X,drop_first=True)\n",
        "X_train, X_test, y_train, y_test = train_test_split(X, y, test_size=0.3, random_state=1)\n"
      ]
    },
    {
      "cell_type": "code",
      "execution_count": 2554,
      "metadata": {
        "id": "hFrHZr2PqKFb",
        "colab": {
          "base_uri": "https://localhost:8080/"
        },
        "outputId": "e67a29a8-0b1f-4a4f-a56d-14da8597b1dd"
      },
      "outputs": [
        {
          "output_type": "execute_result",
          "data": {
            "text/plain": [
              "68316.54577718103"
            ]
          },
          "metadata": {},
          "execution_count": 2554
        }
      ],
      "source": [
        "model = LinearRegression()\n",
        "\n",
        "model.fit(X_train, y_train)\n",
        "\n",
        "y_pred = model.predict(X_test)\n",
        "\n",
        "mean_squared_error(y_test, y_pred, squared=False)\n"
      ]
    },
    {
      "cell_type": "code",
      "execution_count": 2555,
      "metadata": {
        "id": "pcmwI647ugnO"
      },
      "outputs": [],
      "source": [
        "dt = dt.drop(['id','fuel_type','clean_title','ext_col','int_col'], axis=1)\n",
        "\n",
        "le_engine1 = LabelEncoder()\n",
        "le_accidents1 = LabelEncoder()\n",
        "le_transmission1 = LabelEncoder()\n",
        "le_brand1 = LabelEncoder()\n",
        "le_model1 = LabelEncoder()\n",
        "\n",
        "dt['engine_encoded'] = le_engine1.fit_transform(dt['engine'])\n",
        "dt['accident_encoded'] = le_accidents1.fit_transform(dt['accident'])\n",
        "dt['transmission_encoded'] = le_transmission1.fit_transform(dt['transmission'])\n",
        "dt['brand_encoded'] = le_brand1.fit_transform(dt['brand'])\n",
        "dt['model_encoded'] = le_model1.fit_transform(dt['model'])\n",
        "\n",
        "dt = dt.drop(['accident','engine','brand','model','transmission'], axis=1)"
      ]
    },
    {
      "cell_type": "code",
      "execution_count": 2556,
      "metadata": {
        "colab": {
          "base_uri": "https://localhost:8080/"
        },
        "id": "atvkLd2vuTTe",
        "outputId": "021731f9-b20c-4cac-a86b-7735bed867d5"
      },
      "outputs": [
        {
          "output_type": "stream",
          "name": "stdout",
          "text": [
            "Submission file created: submission_file.csv\n"
          ]
        }
      ],
      "source": [
        "id = sf.pop('id')\n",
        "y_pred = model.predict(dt)\n",
        "\n",
        "# Create a submission DataFrame\n",
        "submission_df = pd.DataFrame({\n",
        "    'id': id,\n",
        "    'class': y_pred\n",
        "})\n",
        "\n",
        "# Save the submission DataFrame to a CSV file\n",
        "submission_df.to_csv('submission_file.csv', index=False)\n",
        "print(\"Submission file created: submission_file.csv\")"
      ]
    }
  ],
  "metadata": {
    "colab": {
      "provenance": [],
      "include_colab_link": true
    },
    "kernelspec": {
      "display_name": "Python 3",
      "name": "python3"
    },
    "language_info": {
      "name": "python"
    }
  },
  "nbformat": 4,
  "nbformat_minor": 0
}